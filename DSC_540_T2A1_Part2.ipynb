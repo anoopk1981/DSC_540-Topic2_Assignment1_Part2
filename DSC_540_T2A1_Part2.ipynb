{
 "cells": [
  {
   "cell_type": "code",
   "execution_count": 215,
   "outputs": [
    {
     "data": {
      "text/html": "<h1>Topic2 Assignment - Part 2</h1>",
      "text/plain": "Topic2 Assignment - Part 2"
     },
     "metadata": {},
     "output_type": "display_data"
    },
    {
     "data": {
      "text/html": "<h1>Anoop Korappath</h1>",
      "text/plain": "Anoop Korappath"
     },
     "metadata": {},
     "output_type": "display_data"
    },
    {
     "data": {
      "text/html": "<h1>11/10/2021</h1>",
      "text/plain": "11/10/2021"
     },
     "metadata": {},
     "output_type": "display_data"
    }
   ],
   "source": [
    "from IPython.display import display\n",
    "display({'text/html': '<h1>Topic2 Assignment - Part 2</h1>', 'text/plain': 'Topic2 Assignment - Part 2'}, raw=True)\n",
    "display({'text/html': '<h1>Anoop Korappath</h1>', 'text/plain': 'Anoop Korappath'}, raw=True)\n",
    "display({'text/html': '<h1>11/10/2021</h1>', 'text/plain': '11/10/2021'}, raw=True)"
   ],
   "metadata": {
    "collapsed": false,
    "pycharm": {
     "name": "#%%\n"
    }
   }
  },
  {
   "cell_type": "code",
   "execution_count": 216,
   "outputs": [
    {
     "name": "stdout",
     "output_type": "stream",
     "text": [
      "Training data points: 1149\n",
      "Validation data points: 288\n",
      "Testing data points: 360\n"
     ]
    }
   ],
   "source": [
    "import sns as sns\n",
    "from sklearn.model_selection import train_test_split\n",
    "from sklearn.neighbors import KNeighborsClassifier\n",
    "from sklearn.metrics import classification_report\n",
    "from sklearn import datasets\n",
    "from skimage import exposure\n",
    "import numpy as np\n",
    "\n",
    "# load the MNIST digits dataset\n",
    "whole_dataset = datasets.load_digits()\n",
    "\n",
    "#Split your data into training and testing (80/20 is indeed a good starting point)\n",
    "#Split the training data into training and validation (again, 80/20 is a fair split).\n",
    "(trainData, testData, trainLabels, testLabels) = train_test_split(np.array(whole_dataset.data),\n",
    "whole_dataset.target, test_size=0.20, random_state=42)\n",
    "(trainData, valData, trainLabels, valLabels) = train_test_split(trainData, trainLabels,\n",
    "test_size=0.2, random_state=84)\n",
    "\n",
    "# show the sizes of each data split\n",
    "print(\"Training data points: {}\".format(len(trainLabels)))\n",
    "print(\"Validation data points: {}\".format(len(valLabels)))\n",
    "print(\"Testing data points: {}\".format(len(testLabels)))"
   ],
   "metadata": {
    "collapsed": false,
    "pycharm": {
     "name": "#%%\n"
    }
   }
  },
  {
   "cell_type": "code",
   "execution_count": 217,
   "outputs": [
    {
     "name": "stdout",
     "output_type": "stream",
     "text": [
      "k=1, accuracy=98.96%\n",
      "k=1, error=0.02%\n",
      "\n",
      "\n",
      "k=3, accuracy=99.65%\n",
      "k=3, error=0.01%\n",
      "\n",
      "\n",
      "k=5, accuracy=99.31%\n",
      "k=5, error=0.01%\n",
      "\n",
      "\n",
      "k=7, accuracy=98.96%\n",
      "k=7, error=0.02%\n",
      "\n",
      "\n",
      "k=9, accuracy=98.96%\n",
      "k=9, error=0.02%\n",
      "\n",
      "\n",
      "k=11, accuracy=98.96%\n",
      "k=11, error=0.02%\n",
      "\n",
      "\n",
      "k=13, accuracy=98.26%\n",
      "k=13, error=0.03%\n",
      "\n",
      "\n",
      "k=15, accuracy=97.92%\n",
      "k=15, error=0.02%\n",
      "\n",
      "\n",
      "k=17, accuracy=96.88%\n",
      "k=17, error=0.03%\n",
      "\n",
      "\n",
      "k=19, accuracy=95.49%\n",
      "k=19, error=0.03%\n",
      "\n",
      "\n",
      "k=21, accuracy=95.14%\n",
      "k=21, error=0.03%\n",
      "\n",
      "\n",
      "k=23, accuracy=95.14%\n",
      "k=23, error=0.03%\n",
      "\n",
      "\n",
      "k=25, accuracy=95.49%\n",
      "k=25, error=0.03%\n",
      "\n",
      "\n",
      "k=27, accuracy=95.49%\n",
      "k=27, error=0.03%\n",
      "\n",
      "\n",
      "k=29, accuracy=94.79%\n",
      "k=29, error=0.04%\n",
      "\n",
      "\n",
      "k=3 achieved highest accuracy of 99.65% on validation data\n"
     ]
    }
   ],
   "source": [
    "# print accuracies for each value of k\n",
    "k_values = range(1, 30, 2)\n",
    "accuracies = []\n",
    "\n",
    "# loop over various values of `k` for the k-Nearest Neighbor classifier\n",
    "error = []\n",
    "for k in range(1, 30, 2):\n",
    "          # train the k-Nearest Neighbor classifier with the current value of `k`\n",
    "          model = KNeighborsClassifier(n_neighbors=k)\n",
    "          model.fit(trainData, trainLabels)\n",
    "          # evaluate the model and update the accuracies list\n",
    "          score = model.score(valData, valLabels)\n",
    "          print(\"k=%d, accuracy=%.2f%%\" % (k, score * 100))\n",
    "          accuracies.append(score)\n",
    "          predictions = model.predict(testData)\n",
    "          print(\"k=%d, error=%.2f%%\" % (k, np.mean(predictions != testLabels)))\n",
    "          print(\"\\n\")\n",
    "\n",
    "\n",
    "# find the value of k that has the largest accuracy\n",
    "\n",
    "i = np.argmax(accuracies)\n",
    "print(\"k=%d achieved highest accuracy of %.2f%% on validation data\" % (k_values[i],\n",
    "accuracies[i] * 100))\n"
   ],
   "metadata": {
    "collapsed": false,
    "pycharm": {
     "name": "#%%\n"
    }
   }
  },
  {
   "cell_type": "code",
   "execution_count": 218,
   "outputs": [
    {
     "name": "stdout",
     "output_type": "stream",
     "text": [
      "EVALUATION ON TESTING DATA - Classification Report\n",
      "              precision    recall  f1-score   support\n",
      "\n",
      "           0       1.00      1.00      1.00        33\n",
      "           1       0.97      1.00      0.98        28\n",
      "           2       1.00      1.00      1.00        33\n",
      "           3       1.00      1.00      1.00        34\n",
      "           4       0.98      1.00      0.99        46\n",
      "           5       0.98      0.98      0.98        47\n",
      "           6       1.00      1.00      1.00        35\n",
      "           7       1.00      0.97      0.99        34\n",
      "           8       1.00      0.97      0.98        30\n",
      "           9       0.95      0.95      0.95        40\n",
      "\n",
      "    accuracy                           0.99       360\n",
      "   macro avg       0.99      0.99      0.99       360\n",
      "weighted avg       0.99      0.99      0.99       360\n",
      "\n"
     ]
    }
   ],
   "source": [
    "from sklearn.metrics import confusion_matrix\n",
    "\n",
    "# Re-train classifier using the best k value and predict the labels of the test data\n",
    "\n",
    "model = KNeighborsClassifier(n_neighbors=k_values[i])\n",
    "model.fit(trainData, trainLabels)\n",
    "predictions = model.predict(testData)\n",
    "\n",
    "\n",
    "print(\"EVALUATION ON TESTING DATA - Classification Report\")\n",
    "print(classification_report(testLabels, predictions))"
   ],
   "metadata": {
    "collapsed": false,
    "pycharm": {
     "name": "#%%\n"
    }
   }
  },
  {
   "cell_type": "code",
   "execution_count": 219,
   "outputs": [
    {
     "name": "stdout",
     "output_type": "stream",
     "text": [
      "\n",
      "\n",
      "Confusion matrix\n",
      "\n",
      "\n"
     ]
    },
    {
     "data": {
      "text/plain": "Text(69.0, 0.5, 'Truth')"
     },
     "execution_count": 219,
     "metadata": {},
     "output_type": "execute_result"
    },
    {
     "data": {
      "text/plain": "<Figure size 720x504 with 2 Axes>",
      "image/png": "[encoded data removed]"
     },
     "metadata": {
      "needs_background": "light"
     },
     "output_type": "display_data"
    }
   ],
   "source": [
    "import seaborn as sn\n",
    "import matplotlib.pyplot as plt\n",
    "\n",
    "print(\"\\n\")\n",
    "print (\"Confusion matrix\")\n",
    "print(\"\\n\")\n",
    "plt.figure(figsize = (10,7))\n",
    "sn.heatmap(confusion_matrix(testLabels,predictions), annot=True, fmt='d')\n",
    "plt.xlabel('Predicted')\n",
    "plt.ylabel('Truth')\n"
   ],
   "metadata": {
    "collapsed": false,
    "pycharm": {
     "name": "#%%\n"
    }
   }
  },
  {
   "cell_type": "markdown",
   "source": [
    "#### All the diagonal elements are correct predictions, for example, we correctly predicted the number 0, 33 times.\n",
    "#### The black cells, value shows the wrong predictions. For each number n in the cell, it means that we predicted the value in the truth row as the value is the predicted column, n times."
   ],
   "metadata": {
    "collapsed": false,
    "pycharm": {
     "name": "#%% md\n"
    }
   }
  },
  {
   "cell_type": "code",
   "execution_count": 220,
   "outputs": [
    {
     "data": {
      "text/plain": "Text(0.5, 1.0, 'One')"
     },
     "execution_count": 220,
     "metadata": {},
     "output_type": "execute_result"
    },
    {
     "data": {
      "text/plain": "<Figure size 144x144 with 1 Axes>",
      "image/png": "[encoded data removed]"
     },
     "metadata": {
      "needs_background": "light"
     },
     "output_type": "display_data"
    }
   ],
   "source": [
    "import matplotlib.pyplot as plt\n",
    "\n",
    "# To test the model let us draw a 1\n",
    "one = np.zeros((8, 8))\n",
    "one[1:-1, 4] = 16  # The image values are in [0, 16].\n",
    "one[2, 3] = 16\n",
    "fig, ax = plt.subplots(1, 1, figsize=(2, 2))\n",
    "ax.imshow(one, interpolation='none',\n",
    "          cmap=plt.cm.gray)\n",
    "ax.grid(False)\n",
    "ax.set_axis_off()\n",
    "ax.set_title(\"One\")"
   ],
   "metadata": {
    "collapsed": false,
    "pycharm": {
     "name": "#%%\n"
    }
   }
  },
  {
   "cell_type": "code",
   "execution_count": 221,
   "outputs": [
    {
     "name": "stdout",
     "output_type": "stream",
     "text": [
      "[1]\n"
     ]
    }
   ],
   "source": [
    "# Now pass it as a 1D array to the model\n",
    "print(model.predict(one.reshape((1, -1))))\n",
    "\n",
    "#We can see that the prediction happened correctly\n"
   ],
   "metadata": {
    "collapsed": false,
    "pycharm": {
     "name": "#%%\n"
    }
   }
  },
  {
   "cell_type": "markdown",
   "source": [
    "## Technical Report\n",
    "\n",
    "\n",
    "#### Recognition of handwritten English Numerals is a complicated task due to its unconstrained shapes, individual writing style variations,noise presence that break the continuity in the numerical character and changes in the topology.\n",
    "#### This paper proposes a new technique for feature extraction based on the maximum profile distance. The feature set includes number of holes in an image, Water Reservoir principle based features , Maximum profile distances and filling hole density. Total ten features are extracted: number of connected components is the first feature, four water reservoir features, four maximum profile density and one fill hole density feature. For calculating accuracy of the proposed method 50000 images are used for training set and 5000 images are used for test set.\n",
    "#### The proposed method uses MNIST (Modified NIST) database which includes a training set of 60,000 images and a test set of 5000 images. The training and test sets are subset of NIST digit base. The MNIST digit database is good database for applying learning techniques and patterns recognition methods because of this database need less time for noise removal in preprocessing.\n",
    "#### The recognition of handwritten numerals can achieve a high performance based on how preprocessing is done. In MNIST handwritten digit database images are in gray scale ,and those images are converted into a database of binary images.Converting the gray level images into binary is based on the threshold value. After converting the images into binary, these images may have surplus elements one’s (black) at undesirable places in the background image and that is called noise. It is necessary to remove noise from the image and for that an algorithm is used.\n",
    "#### The proposed method uses k-nearest neighbor (knn) classification algorithm for classifying the MNIST digit images in test database using the feature vector of training database. The k-nearest neighbor algorithm (k-NN) is classification technique to classify the objects base on training features space. The functionality of k-NN algorithm is to define the computations until classification is done irrespective of the learning techniques. Generally k-NN has two learning techniques. They are instance-based and lazy learning techniques. K-nearest neighbor algorithm is simplest classification technique because of computations are simple. The classification of objects based on votes of its neighbors which represented by by k. In K-nn object is classified to a particular class which has majority of votes.\n",
    "#### The algorithm is executed with the value of k is 1, 3, and 5. The graphical representation of the accuracy of classification in using various k values are shown in figure and the overall classification results are listed out in table\n",
    "#### Feature extraction is an important phase of any recognition system and in particular numerical recognition. In this paper, structural features are used for the recognition of numerals. The number of loops in the image (1 feature), water Reservoir principle based features (4 features), maximum profile distances (4 features) and fill hole density feature (1 feature) are used for the numeral recognition. Totally 10 features are extracted from each image.\n",
    "#### From table and figure it is clearly evident that the optimal value of k is 1 for classification of MNIST numerical digits by using k-nearest neighbor classification technique. The recognition rate of the individual digits in test samples by using k-nearest neighbor classification algorithm (with k value 1) are listed in table  and from that table the overall recognition rate of the test database is 96.94%.\n",
    "#### An i.mage is a 2D (N,M) matrix, which has NM features. This matrix needs to be flattened when composing the data matrix; each row is a full image. The idea of K-nearest neighbors is as follows: given a new point in the feature space, find the K closest points from the training set and assign the label of the majority of those points. The distance is generally the Euclidean distance, but other distances can be used too.\n",
    "#### The ROC plots suggests that we will be able to identify all true zeros when misclassifying a small percentage of other numbers. This seems to make sense given the confusion matrix, which shows a very high accuracy for zeros. The ROC plots also reflect the lower accuracy for threes or nines.AN ROC curve essentially shows the trade-off between false negatives anD false positives for a given task (e.g. recognizing nines)."
   ],
   "metadata": {
    "collapsed": false,
    "pycharm": {
     "name": "#%% md\n"
    }
   }
  },
  {
   "cell_type": "code",
   "execution_count": 222,
   "outputs": [
    {
     "data": {
      "text/plain": "<Figure size 432x288 with 1 Axes>",
      "image/png": "[encoded data removed]"
     },
     "metadata": {
      "needs_background": "light"
     },
     "output_type": "display_data"
    }
   ],
   "source": [
    "import matplotlib.pyplot as plt\n",
    "import matplotlib.image as mpimg\n",
    "image = mpimg.imread(\"C:\\\\Users\\\\Anoops\\\\Downloads\\\\1.jpg\")\n",
    "plt.imshow(image)\n",
    "plt.show()\n"
   ],
   "metadata": {
    "collapsed": false,
    "pycharm": {
     "name": "#%%\n"
    }
   }
  },
  {
   "cell_type": "markdown",
   "source": [
    "### References\n",
    "#### Larose, C. D., &amp; Larose, D. T. (2019). Data science using Python and R. Wiley.\n",
    "#### Nagalapuram, G. D. (2021, May 19). Recognizing handwritten digits with Scikit-learn. Medium. Retrieved November 10, 2021, from https://medium.com/analytics-vidhya/recognizing-handwritten-digits-with-scikit-learn-157fd6073857.\n",
    "#### A.F.R. Rahman, R.Rahman, M.C.Fairhurst, “Recognition of handwritten Bengali Characters: A Novel Multistage Approach”,Pattern Recognition, 35,997-1006, 2002\n",
    "#### U. R. Babu, Y. Venkateswarlu and A. K. Chintha, \"Handwritten Digit Recognition Using K-Nearest Neighbour Classifier,\" 2014 World Congress on Computing and Communication Technologies, 2014, pp. 60-65, doi: 10.1109/WCCCT.2014.7.\n"
   ],
   "metadata": {
    "collapsed": false
   }
  }
 ],
 "metadata": {
  "kernelspec": {
   "display_name": "Python 3",
   "language": "python",
   "name": "python3"
  },
  "language_info": {
   "codemirror_mode": {
    "name": "ipython",
    "version": 2
   },
   "file_extension": ".py",
   "mimetype": "text/x-python",
   "name": "python",
   "nbconvert_exporter": "python",
   "pygments_lexer": "ipython2",
   "version": "2.7.6"
  }
 },
 "nbformat": 4,
 "nbformat_minor": 0
}